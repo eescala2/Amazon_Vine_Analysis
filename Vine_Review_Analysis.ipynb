{
  "nbformat": 4,
  "nbformat_minor": 0,
  "metadata": {
    "colab": {
      "name": "Vine_Review_Analysis.ipynb",
      "provenance": [],
      "collapsed_sections": []
    },
    "kernelspec": {
      "name": "python3",
      "display_name": "Python 3"
    },
    "language_info": {
      "name": "python"
    }
  },
  "cells": [
    {
      "cell_type": "code",
      "execution_count": 1,
      "metadata": {
        "colab": {
          "base_uri": "https://localhost:8080/"
        },
        "id": "VtsqebfEjYqc",
        "outputId": "2bb72c52-dee5-49ed-eb88-1eff5bb0c783"
      },
      "outputs": [
        {
          "output_type": "stream",
          "name": "stdout",
          "text": [
            "\r0% [Working]\r            \rGet:1 https://cloud.r-project.org/bin/linux/ubuntu bionic-cran40/ InRelease [3,626 B]\n",
            "Hit:2 https://developer.download.nvidia.com/compute/cuda/repos/ubuntu1804/x86_64  InRelease\n",
            "Hit:3 http://archive.ubuntu.com/ubuntu bionic InRelease\n",
            "Get:4 http://security.ubuntu.com/ubuntu bionic-security InRelease [88.7 kB]\n",
            "Get:5 http://ppa.launchpad.net/c2d4u.team/c2d4u4.0+/ubuntu bionic InRelease [15.9 kB]\n",
            "Get:6 http://archive.ubuntu.com/ubuntu bionic-updates InRelease [88.7 kB]\n",
            "Ign:7 https://developer.download.nvidia.com/compute/machine-learning/repos/ubuntu1804/x86_64  InRelease\n",
            "Hit:8 https://developer.download.nvidia.com/compute/machine-learning/repos/ubuntu1804/x86_64  Release\n",
            "Hit:9 http://ppa.launchpad.net/cran/libgit2/ubuntu bionic InRelease\n",
            "Get:10 http://archive.ubuntu.com/ubuntu bionic-backports InRelease [74.6 kB]\n",
            "Hit:11 http://ppa.launchpad.net/deadsnakes/ppa/ubuntu bionic InRelease\n",
            "Hit:12 http://ppa.launchpad.net/graphics-drivers/ppa/ubuntu bionic InRelease\n",
            "Get:13 http://ppa.launchpad.net/c2d4u.team/c2d4u4.0+/ubuntu bionic/main Sources [2,075 kB]\n",
            "Get:15 http://ppa.launchpad.net/c2d4u.team/c2d4u4.0+/ubuntu bionic/main amd64 Packages [1,063 kB]\n",
            "Get:16 http://security.ubuntu.com/ubuntu bionic-security/restricted amd64 Packages [1,031 kB]\n",
            "Get:17 http://security.ubuntu.com/ubuntu bionic-security/main amd64 Packages [2,871 kB]\n",
            "Get:18 http://security.ubuntu.com/ubuntu bionic-security/universe amd64 Packages [1,521 kB]\n",
            "Get:19 http://archive.ubuntu.com/ubuntu bionic-updates/main amd64 Packages [3,302 kB]\n",
            "Get:20 http://archive.ubuntu.com/ubuntu bionic-updates/restricted amd64 Packages [1,075 kB]\n",
            "Get:21 http://archive.ubuntu.com/ubuntu bionic-updates/universe amd64 Packages [2,298 kB]\n",
            "Fetched 15.5 MB in 7s (2,345 kB/s)\n",
            "Reading package lists... Done\n"
          ]
        }
      ],
      "source": [
        "import os\n",
        "# Find the latest version of spark 3.0 from http://www.apache.org/dist/spark/ and enter as the spark version\n",
        "# For example:\n",
        "# spark_version = 'spark-3.3.0'\n",
        "spark_version = 'spark-3.3.0'\n",
        "os.environ['SPARK_VERSION']=spark_version\n",
        "\n",
        "# Install Spark and Java\n",
        "!apt-get update\n",
        "!apt-get install openjdk-11-jdk-headless -qq > /dev/null\n",
        "!wget -q http://www.apache.org/dist/spark/$SPARK_VERSION/$SPARK_VERSION-bin-hadoop3.tgz\n",
        "!tar xf $SPARK_VERSION-bin-hadoop3.tgz\n",
        "!pip install -q findspark\n",
        "\n",
        "# Set Environment Variables\n",
        "import os\n",
        "os.environ[\"JAVA_HOME\"] = \"/usr/lib/jvm/java-11-openjdk-amd64\"\n",
        "os.environ[\"SPARK_HOME\"] = f\"/content/{spark_version}-bin-hadoop3\"\n",
        "\n",
        "# Start a SparkSession\n",
        "import findspark\n",
        "findspark.init()"
      ]
    },
    {
      "cell_type": "code",
      "source": [
        "from pyspark.sql import SparkSession\n",
        "spark=SparkSession.builder.appName(\"Module16-Challenge\").getOrCreate()"
      ],
      "metadata": {
        "id": "IIW-OiV3klUQ"
      },
      "execution_count": 2,
      "outputs": []
    },
    {
      "cell_type": "code",
      "source": [
        "from pyspark import SparkFiles\n",
        "url=\"https://s3.amazonaws.com/amazon-reviews-pds/tsv/amazon_reviews_us_Furniture_v1_00.tsv.gz\"\n",
        "spark.sparkContext.addFile(url)\n",
        "df=spark.read.option(\"encoding\",\"UTF-8\").csv(SparkFiles.get(\"amazon_reviews_us_Furniture_v1_00.tsv.gz\"),sep=\"\\t\", header=True, inferSchema=True)\n",
        "df.show()"
      ],
      "metadata": {
        "colab": {
          "base_uri": "https://localhost:8080/"
        },
        "id": "-Y0Mjj6tkutS",
        "outputId": "b296a8f7-47ab-4296-946c-91c6f93fe669"
      },
      "execution_count": 3,
      "outputs": [
        {
          "output_type": "stream",
          "name": "stdout",
          "text": [
            "+-----------+-----------+--------------+----------+--------------+--------------------+----------------+-----------+-------------+-----------+----+-----------------+--------------------+--------------------+-------------------+\n",
            "|marketplace|customer_id|     review_id|product_id|product_parent|       product_title|product_category|star_rating|helpful_votes|total_votes|vine|verified_purchase|     review_headline|         review_body|        review_date|\n",
            "+-----------+-----------+--------------+----------+--------------+--------------------+----------------+-----------+-------------+-----------+----+-----------------+--------------------+--------------------+-------------------+\n",
            "|         US|   24509695|R3VR960AHLFKDV|B004HB5E0E|     488241329|Shoal Creek Compu...|       Furniture|          4|            0|          0|   N|                Y|... desk is very ...|This desk is very...|2015-08-31 00:00:00|\n",
            "|         US|   34731776|R16LGVMFKIUT0G|B0042TNMMS|     205864445|Dorel Home Produc...|       Furniture|          5|            0|          0|   N|                Y|          Five Stars|          Great item|2015-08-31 00:00:00|\n",
            "|         US|    1272331|R1AIMEEPYHMOE4|B0030MPBZ4|     124663823|Bathroom Vanity T...|       Furniture|          5|            1|          1|   N|                Y|          Five Stars|Perfect fit for m...|2015-08-31 00:00:00|\n",
            "|         US|   45284262|R1892CCSZWZ9SR|B005G02ESA|     382367578|Sleep Master Ulti...|       Furniture|          3|            0|          0|   N|                Y|         Good enough|We use this on a ...|2015-08-31 00:00:00|\n",
            "|         US|   30003523|R285P679YWVKD1|B005JS8AUA|     309497463|1 1/4\" GashGuards...|       Furniture|          3|            0|          0|   N|                N|Gash Gards for da...|The product is fi...|2015-08-31 00:00:00|\n",
            "|         US|   18311821| RLB33HJBXHZHU|B00AVUQQGQ|     574537906|Serta Bonded Leat...|       Furniture|          5|            0|          0|   N|                Y|          Five Stars|Love this product...|2015-08-31 00:00:00|\n",
            "|         US|   42943632|R1VGTZ94DBAD6A|B00CFY20GQ|     407473883|Prepac Shoe Stora...|       Furniture|          5|            2|          2|   N|                Y|   I love this bench|I love this bench...|2015-08-31 00:00:00|\n",
            "|         US|   43157304|R168KF82ICSOHD|B00FKC48QA|     435120460|HomCom PU Leather...|       Furniture|          5|            0|          0|   N|                Y|Great storage cap...|Have had this for...|2015-08-31 00:00:00|\n",
            "|         US|   51918480|R20DIYIJ0OCMOG|B00N9IAL9K|     356495985|  Folding Step Stool|       Furniture|          5|            0|          0|   N|                Y|This is the best ...|This is the best ...|2015-08-31 00:00:00|\n",
            "|         US|   14522766| RD46RNVOHNZSC|B001T4XU1C|     243050228|Ace Bayou Adult V...|       Furniture|          5|            0|          0|   N|                Y|    great for price!|    my son loves it!|2015-08-31 00:00:00|\n",
            "|         US|   43054112|R2JDOCETTM3AXS|B002HRFLBC|      93574483|4D Concepts Audio...|       Furniture|          5|            0|          0|   N|                Y|          Five Stars|       Great product|2015-08-31 00:00:00|\n",
            "|         US|   26622950|R33YMW36IDZ6LE|B006MISZOC|     941823468|Zinus SC-SBBK-14N...|       Furniture|          5|            0|          0|   N|                Y|             perfect|bought with sleep...|2015-08-31 00:00:00|\n",
            "|         US|   17988940|R30ZGGUHZ04C1S|B008BMGABC|     460567746|Poundex Marble Di...|       Furniture|          5|            1|          1|   N|                Y|   Very satisfied!!!|Delivery was on t...|2015-08-31 00:00:00|\n",
            "|         US|   18444952| RS2EZU76IK2BT|B00CO2VH5Y|     829613894|Safavieh Lyndhurs...|       Furniture|          5|            0|          0|   N|                Y|soft and great fo...|Exactly as pictur...|2015-08-31 00:00:00|\n",
            "|         US|   16937084|R1GJC1BP028XO9|B00LI4RJQ0|     816478187|Sauder Boone Moun...|       Furniture|          5|            2|          3|   N|                Y|        Great table.|Beautiful table. ...|2015-08-31 00:00:00|\n",
            "|         US|   23665632|R2VKJPGXXEK5GP|B0046EC1D0|     358594389|Winsome Wood Brea...|       Furniture|          1|            0|          0|   N|                Y|Not what I expect...|I have cleaned up...|2015-08-31 00:00:00|\n",
            "|         US|    4110125|R17KS83G3KLT97|B00DQQPL36|     312571325|HODEDAH IMPORT Me...|       Furniture|          3|            0|          0|   N|                Y|         Three Stars|First one came in...|2015-08-31 00:00:00|\n",
            "|         US|     107621|R3PQL8SR4NEHWL|B003X7RWB2|     402665054|Flash Furniture H...|       Furniture|          4|            0|          0|   N|                Y|          Four Stars|Good deal to get ...|2015-08-31 00:00:00|\n",
            "|         US|    2415090|R2F5WW7WNO5RRG|B001TJYPJ8|     854989315|Sleep Revolution ...|       Furniture|          5|            0|          0|   N|                Y|          Five Stars|Comfortable and e...|2015-08-31 00:00:00|\n",
            "|         US|   48285966|R3UDJKVWQCFIC9|B000TMHX9A|     814079288|Flash Furniture V...|       Furniture|          5|            0|          0|   N|                Y|Very comfortable....|As advertised. Ve...|2015-08-31 00:00:00|\n",
            "+-----------+-----------+--------------+----------+--------------+--------------------+----------------+-----------+-------------+-----------+----+-----------------+--------------------+--------------------+-------------------+\n",
            "only showing top 20 rows\n",
            "\n"
          ]
        }
      ]
    },
    {
      "cell_type": "code",
      "source": [
        "vine_df=df.select([\"review_id\",\"star_rating\",\"helpful_votes\",\"total_votes\",\"vine\",\"verified_purchase\"])\n",
        "vine_df.show()"
      ],
      "metadata": {
        "colab": {
          "base_uri": "https://localhost:8080/"
        },
        "id": "60nH5H26lKQQ",
        "outputId": "f38149cc-8e93-426e-fb29-c59c247f128c"
      },
      "execution_count": 4,
      "outputs": [
        {
          "output_type": "stream",
          "name": "stdout",
          "text": [
            "+--------------+-----------+-------------+-----------+----+-----------------+\n",
            "|     review_id|star_rating|helpful_votes|total_votes|vine|verified_purchase|\n",
            "+--------------+-----------+-------------+-----------+----+-----------------+\n",
            "|R3VR960AHLFKDV|          4|            0|          0|   N|                Y|\n",
            "|R16LGVMFKIUT0G|          5|            0|          0|   N|                Y|\n",
            "|R1AIMEEPYHMOE4|          5|            1|          1|   N|                Y|\n",
            "|R1892CCSZWZ9SR|          3|            0|          0|   N|                Y|\n",
            "|R285P679YWVKD1|          3|            0|          0|   N|                N|\n",
            "| RLB33HJBXHZHU|          5|            0|          0|   N|                Y|\n",
            "|R1VGTZ94DBAD6A|          5|            2|          2|   N|                Y|\n",
            "|R168KF82ICSOHD|          5|            0|          0|   N|                Y|\n",
            "|R20DIYIJ0OCMOG|          5|            0|          0|   N|                Y|\n",
            "| RD46RNVOHNZSC|          5|            0|          0|   N|                Y|\n",
            "|R2JDOCETTM3AXS|          5|            0|          0|   N|                Y|\n",
            "|R33YMW36IDZ6LE|          5|            0|          0|   N|                Y|\n",
            "|R30ZGGUHZ04C1S|          5|            1|          1|   N|                Y|\n",
            "| RS2EZU76IK2BT|          5|            0|          0|   N|                Y|\n",
            "|R1GJC1BP028XO9|          5|            2|          3|   N|                Y|\n",
            "|R2VKJPGXXEK5GP|          1|            0|          0|   N|                Y|\n",
            "|R17KS83G3KLT97|          3|            0|          0|   N|                Y|\n",
            "|R3PQL8SR4NEHWL|          4|            0|          0|   N|                Y|\n",
            "|R2F5WW7WNO5RRG|          5|            0|          0|   N|                Y|\n",
            "|R3UDJKVWQCFIC9|          5|            0|          0|   N|                Y|\n",
            "+--------------+-----------+-------------+-----------+----+-----------------+\n",
            "only showing top 20 rows\n",
            "\n"
          ]
        }
      ]
    },
    {
      "cell_type": "code",
      "source": [
        "filtered_votes_df=vine_df.filter(\"total_votes>=20\")\n",
        "filtered_votes_df.show()"
      ],
      "metadata": {
        "colab": {
          "base_uri": "https://localhost:8080/"
        },
        "id": "5DrLqMYrlVku",
        "outputId": "c50f7aac-46c9-4450-f50e-c04bb593fb2c"
      },
      "execution_count": 7,
      "outputs": [
        {
          "output_type": "stream",
          "name": "stdout",
          "text": [
            "+--------------+-----------+-------------+-----------+----+-----------------+\n",
            "|     review_id|star_rating|helpful_votes|total_votes|vine|verified_purchase|\n",
            "+--------------+-----------+-------------+-----------+----+-----------------+\n",
            "| RL8D0KJ0J9L0O|          5|          152|        165|   N|                Y|\n",
            "|R1BEINAIQFBRJC|          5|           21|         23|   N|                Y|\n",
            "|R2L59KIJH302P9|          4|           26|         26|   N|                Y|\n",
            "| RR99CPG695T0I|          5|          215|        248|   N|                N|\n",
            "|R1XQNKKUPCMWVO|          5|           43|         44|   N|                Y|\n",
            "|R3JUXVCT1NSK2A|          3|           25|         26|   N|                Y|\n",
            "|R3GNSIFV1J2Y2B|          1|           15|         60|   N|                N|\n",
            "| RTCRZARYY4LXX|          5|           52|         54|   N|                Y|\n",
            "|R3OFB4P7Y8WR27|          1|           15|         26|   N|                Y|\n",
            "|R3MTAYGQM25N63|          4|           58|         59|   N|                Y|\n",
            "| RJNDSWES5ISZ7|          5|           78|         79|   N|                Y|\n",
            "|R15R7STOZZP2A4|          5|           33|         34|   N|                Y|\n",
            "|R33V5WV529NK8E|          4|           30|         32|   N|                Y|\n",
            "| RIR9ZI3L80P7P|          3|           72|         76|   N|                N|\n",
            "|R10P6SDC1D6C3I|          5|           23|         25|   N|                Y|\n",
            "|R110G9UVLI2MLS|          5|           52|         55|   N|                Y|\n",
            "|R1I4LN1WR3YVJX|          1|           31|         40|   N|                Y|\n",
            "|R1B76MPCS05UX9|          5|           19|         21|   N|                Y|\n",
            "|R17PJIKAZ3U6BG|          5|           21|         21|   N|                Y|\n",
            "|R2T3TLCX42RWLY|          5|           46|         48|   N|                Y|\n",
            "+--------------+-----------+-------------+-----------+----+-----------------+\n",
            "only showing top 20 rows\n",
            "\n"
          ]
        }
      ]
    },
    {
      "cell_type": "code",
      "source": [
        "filtered_percent_df=filtered_votes_df.filter(\"helpful_votes/total_votes>=0.5\")\n",
        "filtered_percent_df.show()"
      ],
      "metadata": {
        "colab": {
          "base_uri": "https://localhost:8080/"
        },
        "id": "69sMvD45lcvD",
        "outputId": "2e115ad3-4c0b-42b5-e70b-c684a69b45ca"
      },
      "execution_count": 8,
      "outputs": [
        {
          "output_type": "stream",
          "name": "stdout",
          "text": [
            "+--------------+-----------+-------------+-----------+----+-----------------+\n",
            "|     review_id|star_rating|helpful_votes|total_votes|vine|verified_purchase|\n",
            "+--------------+-----------+-------------+-----------+----+-----------------+\n",
            "| RL8D0KJ0J9L0O|          5|          152|        165|   N|                Y|\n",
            "|R1BEINAIQFBRJC|          5|           21|         23|   N|                Y|\n",
            "|R2L59KIJH302P9|          4|           26|         26|   N|                Y|\n",
            "| RR99CPG695T0I|          5|          215|        248|   N|                N|\n",
            "|R1XQNKKUPCMWVO|          5|           43|         44|   N|                Y|\n",
            "|R3JUXVCT1NSK2A|          3|           25|         26|   N|                Y|\n",
            "| RTCRZARYY4LXX|          5|           52|         54|   N|                Y|\n",
            "|R3OFB4P7Y8WR27|          1|           15|         26|   N|                Y|\n",
            "|R3MTAYGQM25N63|          4|           58|         59|   N|                Y|\n",
            "| RJNDSWES5ISZ7|          5|           78|         79|   N|                Y|\n",
            "|R15R7STOZZP2A4|          5|           33|         34|   N|                Y|\n",
            "|R33V5WV529NK8E|          4|           30|         32|   N|                Y|\n",
            "| RIR9ZI3L80P7P|          3|           72|         76|   N|                N|\n",
            "|R10P6SDC1D6C3I|          5|           23|         25|   N|                Y|\n",
            "|R110G9UVLI2MLS|          5|           52|         55|   N|                Y|\n",
            "|R1I4LN1WR3YVJX|          1|           31|         40|   N|                Y|\n",
            "|R1B76MPCS05UX9|          5|           19|         21|   N|                Y|\n",
            "|R17PJIKAZ3U6BG|          5|           21|         21|   N|                Y|\n",
            "|R2T3TLCX42RWLY|          5|           46|         48|   N|                Y|\n",
            "|R39YWJ09ZCPW7P|          5|           24|         28|   N|                Y|\n",
            "+--------------+-----------+-------------+-----------+----+-----------------+\n",
            "only showing top 20 rows\n",
            "\n"
          ]
        }
      ]
    },
    {
      "cell_type": "code",
      "source": [
        "paid_vine_df=filtered_percent_df.filter(\"vine=='Y'\")\n",
        "paid_vine_df.show()\n",
        "\n",
        "unpaid_vine_df=filtered_percent_df.filter(\"vine=='N'\")\n",
        "unpaid_vine_df.show()"
      ],
      "metadata": {
        "colab": {
          "base_uri": "https://localhost:8080/"
        },
        "id": "-jRPJc3elj3C",
        "outputId": "2e40bfee-dbb1-4422-ba7b-447613e1a883"
      },
      "execution_count": 9,
      "outputs": [
        {
          "output_type": "stream",
          "name": "stdout",
          "text": [
            "+--------------+-----------+-------------+-----------+----+-----------------+\n",
            "|     review_id|star_rating|helpful_votes|total_votes|vine|verified_purchase|\n",
            "+--------------+-----------+-------------+-----------+----+-----------------+\n",
            "|R2BQOD1R0228FN|          3|           17|         26|   Y|                N|\n",
            "| RC31RUPFOHBHQ|          4|          102|        117|   Y|                N|\n",
            "| REN3N1WITLF1Y|          5|           33|         37|   Y|                N|\n",
            "| R71RZQ9UZVG47|          4|           38|         47|   Y|                N|\n",
            "|R38NMQBH88HLM6|          4|           18|         24|   Y|                N|\n",
            "|R33FGX9EE3QVR6|          4|           26|         26|   Y|                N|\n",
            "|R1KIOIK6WEYE59|          3|           19|         20|   Y|                N|\n",
            "|R25X9BMOB3FD0E|          4|           32|         37|   Y|                N|\n",
            "|R3VCKFCX2377Q2|          4|           95|        101|   Y|                N|\n",
            "|R1E0OUG63HMSM4|          3|           58|         61|   Y|                N|\n",
            "|R1V45RUW5ZB3LS|          4|           19|         21|   Y|                N|\n",
            "| RTF6DSZ1UTLHH|          5|          401|        418|   Y|                N|\n",
            "|R1CZV9N2YLJAP7|          5|          123|        136|   Y|                Y|\n",
            "|R1OF3X9W99Y300|          4|           27|         35|   Y|                N|\n",
            "|R1JYKEH4CQVJ1B|          5|           22|         23|   Y|                N|\n",
            "|R1093XVB0H2QOL|          4|           51|         54|   Y|                N|\n",
            "|R3Q81B31F1CPGH|          3|           50|         55|   Y|                N|\n",
            "|R2P6XIZZPJF7AE|          5|           46|         51|   Y|                N|\n",
            "|R3N5S06UW5MKFE|          3|          907|        925|   Y|                N|\n",
            "|R3J9EJCVKFCRWO|          5|           18|         20|   Y|                N|\n",
            "+--------------+-----------+-------------+-----------+----+-----------------+\n",
            "only showing top 20 rows\n",
            "\n",
            "+--------------+-----------+-------------+-----------+----+-----------------+\n",
            "|     review_id|star_rating|helpful_votes|total_votes|vine|verified_purchase|\n",
            "+--------------+-----------+-------------+-----------+----+-----------------+\n",
            "| RL8D0KJ0J9L0O|          5|          152|        165|   N|                Y|\n",
            "|R1BEINAIQFBRJC|          5|           21|         23|   N|                Y|\n",
            "|R2L59KIJH302P9|          4|           26|         26|   N|                Y|\n",
            "| RR99CPG695T0I|          5|          215|        248|   N|                N|\n",
            "|R1XQNKKUPCMWVO|          5|           43|         44|   N|                Y|\n",
            "|R3JUXVCT1NSK2A|          3|           25|         26|   N|                Y|\n",
            "| RTCRZARYY4LXX|          5|           52|         54|   N|                Y|\n",
            "|R3OFB4P7Y8WR27|          1|           15|         26|   N|                Y|\n",
            "|R3MTAYGQM25N63|          4|           58|         59|   N|                Y|\n",
            "| RJNDSWES5ISZ7|          5|           78|         79|   N|                Y|\n",
            "|R15R7STOZZP2A4|          5|           33|         34|   N|                Y|\n",
            "|R33V5WV529NK8E|          4|           30|         32|   N|                Y|\n",
            "| RIR9ZI3L80P7P|          3|           72|         76|   N|                N|\n",
            "|R10P6SDC1D6C3I|          5|           23|         25|   N|                Y|\n",
            "|R110G9UVLI2MLS|          5|           52|         55|   N|                Y|\n",
            "|R1I4LN1WR3YVJX|          1|           31|         40|   N|                Y|\n",
            "|R1B76MPCS05UX9|          5|           19|         21|   N|                Y|\n",
            "|R17PJIKAZ3U6BG|          5|           21|         21|   N|                Y|\n",
            "|R2T3TLCX42RWLY|          5|           46|         48|   N|                Y|\n",
            "|R39YWJ09ZCPW7P|          5|           24|         28|   N|                Y|\n",
            "+--------------+-----------+-------------+-----------+----+-----------------+\n",
            "only showing top 20 rows\n",
            "\n"
          ]
        }
      ]
    },
    {
      "cell_type": "code",
      "source": [
        "from pyspark.sql.functions import count, col, when\n",
        "vine_reviews_df=filtered_percent_df.groupBy(\"vine\").agg(\n",
        "    count(col(\"vine\")).alias(\"Total_Reviews\"),\n",
        "    count(when(col(\"star_rating\")==5,True)).alias(\"5-Star_Reviews\"),\n",
        "    (count(when(col(\"star_rating\")==5,True))/count(col(\"vine\"))*100).alias(\"Percentage_5-Star_Reviews\")).show()"
      ],
      "metadata": {
        "colab": {
          "base_uri": "https://localhost:8080/"
        },
        "id": "G7_oF7VLluhV",
        "outputId": "77be05ec-d071-4ceb-d989-f4cd792448f1"
      },
      "execution_count": 11,
      "outputs": [
        {
          "output_type": "stream",
          "name": "stdout",
          "text": [
            "+----+-------------+--------------+-------------------------+\n",
            "|vine|Total_Reviews|5-Star_Reviews|Percentage_5-Star_Reviews|\n",
            "+----+-------------+--------------+-------------------------+\n",
            "|   Y|          136|            74|        54.41176470588235|\n",
            "|   N|        18019|          8482|       47.072534546867196|\n",
            "+----+-------------+--------------+-------------------------+\n",
            "\n"
          ]
        }
      ]
    },
    {
      "cell_type": "code",
      "source": [
        "total_reviews_paid=paid_vine_df.count()\n",
        "total_reviews_paid"
      ],
      "metadata": {
        "colab": {
          "base_uri": "https://localhost:8080/"
        },
        "id": "MeqmcOEtmJnG",
        "outputId": "c89cb5e6-6d63-4a54-bf93-6b7a78f15dec"
      },
      "execution_count": 12,
      "outputs": [
        {
          "output_type": "execute_result",
          "data": {
            "text/plain": [
              "136"
            ]
          },
          "metadata": {},
          "execution_count": 12
        }
      ]
    },
    {
      "cell_type": "code",
      "source": [
        "total_reviews_unpaid=unpaid_vine_df.count()\n",
        "total_reviews_unpaid"
      ],
      "metadata": {
        "colab": {
          "base_uri": "https://localhost:8080/"
        },
        "id": "b_7TwWslmMtD",
        "outputId": "ce801964-ce58-4c14-a5dd-ea182b3f44f7"
      },
      "execution_count": 13,
      "outputs": [
        {
          "output_type": "execute_result",
          "data": {
            "text/plain": [
              "18019"
            ]
          },
          "metadata": {},
          "execution_count": 13
        }
      ]
    },
    {
      "cell_type": "code",
      "source": [
        "fivestars_paid=paid_vine_df.filter(\"star_rating==5\").count()\n",
        "fivestars_paid"
      ],
      "metadata": {
        "colab": {
          "base_uri": "https://localhost:8080/"
        },
        "id": "hKrWYc_dmQTf",
        "outputId": "9f0c703a-49fa-42e2-a4ab-a612a08879e7"
      },
      "execution_count": 14,
      "outputs": [
        {
          "output_type": "execute_result",
          "data": {
            "text/plain": [
              "74"
            ]
          },
          "metadata": {},
          "execution_count": 14
        }
      ]
    },
    {
      "cell_type": "code",
      "source": [
        "fivestars_unpaid=unpaid_vine_df.filter(\"star_rating==5\").count()\n",
        "fivestars_unpaid"
      ],
      "metadata": {
        "colab": {
          "base_uri": "https://localhost:8080/"
        },
        "id": "mIU008uomUWD",
        "outputId": "8e092a72-a660-47a6-8482-ad25f0927f14"
      },
      "execution_count": 15,
      "outputs": [
        {
          "output_type": "execute_result",
          "data": {
            "text/plain": [
              "8482"
            ]
          },
          "metadata": {},
          "execution_count": 15
        }
      ]
    },
    {
      "cell_type": "code",
      "source": [
        "percentage_fivestars_paid=fivestars_paid/total_reviews_paid*100\n",
        "percentage_fivestars_paid"
      ],
      "metadata": {
        "colab": {
          "base_uri": "https://localhost:8080/"
        },
        "id": "RFpuG3Qfmaxj",
        "outputId": "bb847925-f3c3-41f5-caa3-0f251843eb67"
      },
      "execution_count": 16,
      "outputs": [
        {
          "output_type": "execute_result",
          "data": {
            "text/plain": [
              "54.41176470588235"
            ]
          },
          "metadata": {},
          "execution_count": 16
        }
      ]
    },
    {
      "cell_type": "code",
      "source": [
        "percentage_fivestars_unpaid=fivestars_unpaid/total_reviews_unpaid*100\n",
        "percentage_fivestars_unpaid"
      ],
      "metadata": {
        "colab": {
          "base_uri": "https://localhost:8080/"
        },
        "id": "3WkKzfmxmf6s",
        "outputId": "e86f83ce-283f-4b34-c43e-23da39c3f643"
      },
      "execution_count": 17,
      "outputs": [
        {
          "output_type": "execute_result",
          "data": {
            "text/plain": [
              "47.072534546867196"
            ]
          },
          "metadata": {},
          "execution_count": 17
        }
      ]
    }
  ]
}